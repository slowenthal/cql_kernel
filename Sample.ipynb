{
 "cells": [
  {
   "cell_type": "code",
   "execution_count": null,
   "id": "substantial-librarian",
   "metadata": {},
   "outputs": [],
   "source": [
    "CREATE KEYSPACE test WITH REPLICATION = { 'class' : 'NetworkTopologyStrategy' }"
   ]
  },
  {
   "cell_type": "code",
   "execution_count": null,
   "id": "polished-motorcycle",
   "metadata": {},
   "outputs": [],
   "source": [
    "use test"
   ]
  },
  {
   "cell_type": "code",
   "execution_count": null,
   "id": "sought-extreme",
   "metadata": {},
   "outputs": [],
   "source": [
    "drop table emp"
   ]
  },
  {
   "cell_type": "code",
   "execution_count": null,
   "id": "vietnamese-theology",
   "metadata": {},
   "outputs": [],
   "source": [
    "CREATE TABLE emp(\n",
    "   id int PRIMARY KEY,\n",
    "   name text,\n",
    "   city text,\n",
    "   phone varint\n",
    "   );"
   ]
  },
  {
   "cell_type": "code",
   "execution_count": null,
   "id": "smaller-lighting",
   "metadata": {},
   "outputs": [],
   "source": [
    "INSERT INTO emp (id,name,city,phone) VALUES( 1, 'John', 'Washington, DC', 2129992122)\n"
   ]
  },
  {
   "cell_type": "code",
   "execution_count": null,
   "id": "aggregate-editing",
   "metadata": {},
   "outputs": [],
   "source": [
    "select * from emp;"
   ]
  },
  {
   "cell_type": "code",
   "execution_count": null,
   "id": "intellectual-hammer",
   "metadata": {},
   "outputs": [],
   "source": [
    "describe table emp"
   ]
  },
  {
   "cell_type": "code",
   "execution_count": null,
   "id": "dried-aviation",
   "metadata": {},
   "outputs": [],
   "source": []
  }
 ],
 "metadata": {
  "kernelspec": {
   "display_name": "CQL",
   "language": "CQL",
   "name": "cql"
  },
  "language_info": {
   "codemirror_mode": "sql",
   "file_extension": ".cql",
   "mimetype": "text/x-cassandra",
   "name": "CQL"
  }
 },
 "nbformat": 4,
 "nbformat_minor": 5
}
